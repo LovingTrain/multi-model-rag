{
 "cells": [
  {
   "cell_type": "code",
   "execution_count": 1,
   "metadata": {},
   "outputs": [
    {
     "name": "stdout",
     "output_type": "stream",
     "text": [
      "{0: {'filename': 'ai.txt', 'img_path': 'D:/Anaconda/Multi-Modal-RAG-Pipeline-on-Images-and-Text-Locally/ai.png'}, 1: {'filename': 'Naim.txt', 'img_path': 'D:/Anaconda/Multi-Modal-RAG-Pipeline-on-Images-and-Text-Locally/Naim.png'}, 2: {'filename': 'space.txt', 'img_path': 'D:/Anaconda/Multi-Modal-RAG-Pipeline-on-Images-and-Text-Locally/space.png'}}\n"
     ]
    }
   ],
   "source": [
    "import os\n",
    "\n",
    "# Replace the path with the new one\n",
    "data_path = \"D:/Anaconda/Multi-Modal-RAG-Pipeline-on-Images-and-Text-Locally/\"\n",
    "\n",
    "image_metadata_dict = {}\n",
    "\n",
    "# Iterate over the files in the directory specified by data_path\n",
    "for file in os.listdir(data_path):\n",
    "    if file.endswith(\".txt\"):  # Check if the file ends with .txt\n",
    "        filename = file\n",
    "        # Replace the .txt extension with .jpg to find the corresponding image\n",
    "        img_path = data_path + file.replace(\".txt\", \".jpg\")\n",
    "        if os.path.exists(img_path):  # Check if the .jpg image exists\n",
    "            image_metadata_dict[len(image_metadata_dict)] = {\n",
    "                \"filename\": filename,\n",
    "                \"img_path\": img_path\n",
    "            }\n",
    "        else:\n",
    "            # Replace the .txt extension with .png to find the corresponding image\n",
    "            img_path = data_path + file.replace(\".txt\", \".png\")\n",
    "            if os.path.exists(img_path):  # Check if the .png image exists\n",
    "                image_metadata_dict[len(image_metadata_dict)] = {\n",
    "                    \"filename\": filename,\n",
    "                    \"img_path\": img_path\n",
    "                }\n",
    "\n",
    "# Print the dictionary containing metadata about images\n",
    "print(image_metadata_dict)\n"
   ]
  },
  {
   "cell_type": "code",
   "execution_count": 2,
   "metadata": {},
   "outputs": [
    {
     "name": "stderr",
     "output_type": "stream",
     "text": [
      "d:\\Anaconda\\envs\\multirag\\Lib\\site-packages\\tqdm\\auto.py:21: TqdmWarning: IProgress not found. Please update jupyter and ipywidgets. See https://ipywidgets.readthedocs.io/en/stable/user_install.html\n",
      "  from .autonotebook import tqdm as notebook_tqdm\n",
      "WARNING:root:Payload indexes have no effect in the local Qdrant. Please use server Qdrant if you need payload indexes.\n",
      "WARNING:root:Payload indexes have no effect in the local Qdrant. Please use server Qdrant if you need payload indexes.\n"
     ]
    }
   ],
   "source": [
    "import qdrant_client\n",
    "from llama_index.core import SimpleDirectoryReader\n",
    "from llama_index.vector_stores.qdrant import QdrantVectorStore\n",
    "from llama_index.core import VectorStoreIndex, StorageContext\n",
    "from llama_index.core.indices import MultiModalVectorStoreIndex\n",
    "\n",
    "# Create a local Qdrant vector store\n",
    "client = qdrant_client.QdrantClient(path=\"qdrant_d_0\")\n",
    "\n",
    "text_store = QdrantVectorStore(\n",
    "    client=client, collection_name=\"text_collection_0\"\n",
    ")\n",
    "image_store = QdrantVectorStore(\n",
    "    client=client, collection_name=\"image_collection_0\"\n",
    ")\n",
    "storage_context = StorageContext.from_defaults(\n",
    "    vector_store=text_store, image_store=image_store\n",
    ")\n",
    "\n",
    "# Create the MultiModal index\n",
    "documents = SimpleDirectoryReader(data_path).load_data()\n",
    "index = MultiModalVectorStoreIndex.from_documents(\n",
    "    documents,\n",
    "    storage_context=storage_context,\n",
    ")"
   ]
  }
 ],
 "metadata": {
  "kernelspec": {
   "display_name": "Python 3",
   "language": "python",
   "name": "python3"
  },
  "language_info": {
   "codemirror_mode": {
    "name": "ipython",
    "version": 3
   },
   "file_extension": ".py",
   "mimetype": "text/x-python",
   "name": "python",
   "nbconvert_exporter": "python",
   "pygments_lexer": "ipython3",
   "version": "3.11.9"
  }
 },
 "nbformat": 4,
 "nbformat_minor": 2
}
