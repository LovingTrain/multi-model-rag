{
 "cells": [
  {
   "cell_type": "code",
   "execution_count": 2,
   "metadata": {},
   "outputs": [],
   "source": [
    "from src.search_faiss import FaissSearcher\n",
    "embedding_path = \"/mnt/d/data/wjj/cocodataset/vector/all_embeddings.npy\"\n",
    "metadata_path = \"/mnt/d/data/wjj/cocodataset/vector/all_metadata.feather\"\n",
    "searcher=FaissSearcher(embedding_path,metadata_path)"
   ]
  },
  {
   "cell_type": "code",
   "execution_count": 7,
   "metadata": {},
   "outputs": [],
   "source": [
    "N,D=searcher.all_embeddings.shape[0],searcher.all_embeddings.shape[1]"
   ]
  },
  {
   "cell_type": "code",
   "execution_count": 9,
   "metadata": {},
   "outputs": [
    {
     "data": {
      "text/plain": [
       "1375"
      ]
     },
     "execution_count": 9,
     "metadata": {},
     "output_type": "execute_result"
    }
   ],
   "source": [
    "import numpy as np\n",
    "nlist=int(4 * np.sqrt(N))\n",
    "nlist"
   ]
  }
 ],
 "metadata": {
  "kernelspec": {
   "display_name": "Python 3.11.13 ('rag': conda)",
   "language": "python",
   "name": "python3"
  },
  "language_info": {
   "codemirror_mode": {
    "name": "ipython",
    "version": 3
   },
   "file_extension": ".py",
   "mimetype": "text/x-python",
   "name": "python",
   "nbconvert_exporter": "python",
   "pygments_lexer": "ipython3",
   "version": "3.11.13"
  },
  "vscode": {
   "interpreter": {
    "hash": "63eea4046768fb64999bf5a39700dcc9dffa873562327e47e558426c0553b8d3"
   }
  }
 },
 "nbformat": 4,
 "nbformat_minor": 2
}
