{
 "cells": [
  {
   "cell_type": "code",
   "execution_count": null,
   "metadata": {},
   "outputs": [],
   "source": [
    "import re\n",
    "import matplotlib.pyplot as plt\n",
    "\n",
    "\n",
    "def plot_bsz_metrics_separate(text, mode=\"end2end\", per_sample=True):\n",
    "    # Initialize lists to store data\n",
    "    bsz = []\n",
    "    total_times = []\n",
    "    per_sample_times = []\n",
    "\n",
    "    # Regular expression to match the relevant data\n",
    "    pattern = r\"\\[\\w+\\s+bsz=(\\d+)\\]\\s+total=([\\d.]+)s\\s+\\(per-sample=([\\d.]+)s\\)\"\n",
    "\n",
    "    # Extract data from text\n",
    "    for line in text.splitlines():\n",
    "        match = re.match(pattern, line)\n",
    "        if match:\n",
    "            bsz.append(int(match.group(1)))\n",
    "            total_times.append(float(match.group(2)))\n",
    "            per_sample_times.append(float(match.group(3)))\n",
    "\n",
    "    # Plot 1: Total Time vs Batch Size\n",
    "    plt.figure(figsize=(8, 5))\n",
    "    plt.plot(bsz, total_times, 'b-', label='Total Time (s)')\n",
    "    plt.xlabel('Batch Size (bsz)')\n",
    "    plt.ylabel('Total Time (seconds)')\n",
    "    plt.title(mode+'  Total Time vs Batch Size')\n",
    "    plt.grid(True, linestyle='--', alpha=0.7)\n",
    "    plt.legend()\n",
    "    plt.tight_layout()\n",
    "    plt.show()\n",
    "\n",
    "    # Plot 2: Per-Sample Time vs Batch Size\n",
    "    if per_sample:\n",
    "        plt.figure(figsize=(8, 5))\n",
    "        plt.plot(bsz, per_sample_times, 'r-', label='Per-Sample Time (s)')\n",
    "        plt.xlabel('Batch Size (bsz)')\n",
    "        plt.ylabel('Per-Sample Time (seconds)')\n",
    "        plt.title(mode+'  Per-Sample Time vs Batch Size')\n",
    "        plt.grid(True, linestyle='--', alpha=0.7)\n",
    "        plt.legend()\n",
    "        plt.tight_layout()\n",
    "        plt.show()\n"
   ]
  }
 ],
 "metadata": {
  "kernelspec": {
   "display_name": "Python 3.9.13",
   "language": "python",
   "name": "python3"
  },
  "language_info": {
   "name": "python",
   "version": "3.9.13"
  },
  "orig_nbformat": 4,
  "vscode": {
   "interpreter": {
    "hash": "949510482b8eeb0db0de64008f8e13a21a90dd06afd7a8e21dd837eed22f74f3"
   }
  }
 },
 "nbformat": 4,
 "nbformat_minor": 2
}
