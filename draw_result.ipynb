import re
import matplotlib.pyplot as plt

def plot_bsz_metrics_separate(text,mode="end2end",per_sample=True):
    # Initialize lists to store data
    bsz = []
    total_times = []
    per_sample_times = []

    # Regular expression to match the relevant data
    pattern = r"\[\w+\s+bsz=(\d+)\]\s+total=([\d.]+)s\s+\(per-sample=([\d.]+)s\)"

    # Extract data from text
    for line in text.splitlines():
        match = re.match(pattern, line)
        if match:
            bsz.append(int(match.group(1)))
            total_times.append(float(match.group(2)))
            per_sample_times.append(float(match.group(3)))

    # Plot 1: Total Time vs Batch Size
    plt.figure(figsize=(8, 5))
    plt.plot(bsz, total_times, 'b-', label='Total Time (s)')
    plt.xlabel('Batch Size (bsz)')
    plt.ylabel('Total Time (seconds)')
    plt.title(mode+'  Total Time vs Batch Size')
    plt.grid(True, linestyle='--', alpha=0.7)
    plt.legend()
    plt.tight_layout()
    plt.show()

    # Plot 2: Per-Sample Time vs Batch Size
    if per_sample:
        plt.figure(figsize=(8, 5))
        plt.plot(bsz, per_sample_times, 'r-', label='Per-Sample Time (s)')
        plt.xlabel('Batch Size (bsz)')
        plt.ylabel('Per-Sample Time (seconds)')
        plt.title(mode+'  Per-Sample Time vs Batch Size')
        plt.grid(True, linestyle='--', alpha=0.7)
        plt.legend()
        plt.tight_layout()
        plt.show()



# 2
text = """
[Init] search_type=gpu 初始化完成。
[end2end bsz=100] total=0.02915s (per-sample=0.0002914915s) | encode=0.02795s search=0.00120s p95=0.02929s
[end2end bsz=200] total=0.05583s (per-sample=0.0002791266s) | encode=0.05366s search=0.00216s p95=0.05601s
[end2end bsz=300] total=0.08516s (per-sample=0.0002838728s) | encode=0.08202s search=0.00314s p95=0.08563s
[end2end bsz=400] total=0.11338s (per-sample=0.0002834399s) | encode=0.10925s search=0.00412s p95=0.11349s
[end2end bsz=500] total=0.14420s (per-sample=0.0002884002s) | encode=0.13907s search=0.00513s p95=0.14428s
[end2end bsz=600] total=0.17472s (per-sample=0.0002912005s) | encode=0.16860s search=0.00612s p95=0.17645s
[end2end bsz=700] total=0.19888s (per-sample=0.0002841080s) | encode=0.19187s search=0.00701s p95=0.19900s
[end2end bsz=800] total=0.23027s (per-sample=0.0002878320s) | encode=0.22223s search=0.00804s p95=0.23079s
[end2end bsz=900] total=0.25835s (per-sample=0.0002870569s) | encode=0.24936s search=0.00899s p95=0.26118s
[end2end bsz=1000] total=0.28880s (per-sample=0.0002888014s) | encode=0.27883s search=0.00997s p95=0.29194s
[end2end bsz=1100] total=0.31357s (per-sample=0.0002850592s) | encode=0.30262s search=0.01095s p95=0.31596s
[end2end bsz=1200] total=0.34181s (per-sample=0.0002848435s) | encode=0.32993s search=0.01188s p95=0.34488s
[end2end bsz=1300] total=0.37153s (per-sample=0.0002857885s) | encode=0.35865s search=0.01288s p95=0.37295s
[end2end bsz=1400] total=0.39413s (per-sample=0.0002815216s) | encode=0.38031s search=0.01382s p95=0.39432s
[end2end bsz=1500] total=0.42438s (per-sample=0.0002829203s) | encode=0.40966s search=0.01472s p95=0.42652s
[end2end bsz=1600] total=0.45284s (per-sample=0.0002830250s) | encode=0.43718s search=0.01566s p95=0.45319s
[end2end bsz=1700] total=0.47926s (per-sample=0.0002819163s) | encode=0.46263s search=0.01663s p95=0.48059s
[end2end bsz=1800] total=0.51064s (per-sample=0.0002836885s) | encode=0.49260s search=0.01804s p95=0.51220s
[end2end bsz=1900] total=0.53993s (per-sample=0.0002841722s) | encode=0.52143s search=0.01850s p95=0.54225s
[end2end bsz=2000] total=0.56356s (per-sample=0.0002817787s) | encode=0.54408s search=0.01948s p95=0.56431s
[end2end bsz=2100] total=0.59958s (per-sample=0.0002855156s) | encode=0.57894s search=0.02064s p95=0.59969s
[end2end bsz=2200] total=0.62050s (per-sample=0.0002820449s) | encode=0.59707s search=0.02342s p95=0.62292s
[end2end bsz=2300] total=0.64465s (per-sample=0.0002802807s) | encode=0.62212s search=0.02252s p95=0.64481s
[end2end bsz=2400] total=0.67615s (per-sample=0.0002817297s) | encode=0.65268s search=0.02347s p95=0.67963s
[end2end bsz=2500] total=0.70120s (per-sample=0.0002804814s) | encode=0.67682s search=0.02438s p95=0.70227s
[end2end bsz=2600] total=0.73078s (per-sample=0.0002810711s) | encode=0.70547s search=0.02531s p95=0.73091s
[end2end bsz=2700] total=0.76309s (per-sample=0.0002826268s) | encode=0.73673s search=0.02636s p95=0.76776s
[end2end bsz=2800] total=0.78245s (per-sample=0.0002794453s) | encode=0.75527s search=0.02717s p95=0.78281s
[end2end bsz=2900] total=0.81702s (per-sample=0.0002817316s) | encode=0.78882s search=0.02820s p95=0.82334s
[end2end bsz=3000] total=0.84437s (per-sample=0.0002814561s) | encode=0.81512s search=0.02924s p95=0.84475s
[end2end bsz=3100] total=0.86728s (per-sample=0.0002797668s) | encode=0.83700s search=0.03028s p95=0.86777s
[end2end bsz=3200] total=0.90905s (per-sample=0.0002840775s) | encode=0.87805s search=0.03100s p95=0.90939s
[end2end bsz=3300] total=0.92982s (per-sample=0.0002817624s) | encode=0.89789s search=0.03193s p95=0.93064s
[end2end bsz=3400] total=0.95942s (per-sample=0.0002821826s) | encode=0.92642s search=0.03300s p95=0.96667s
[end2end bsz=3500] total=0.99982s (per-sample=0.0002856625s) | encode=0.96576s search=0.03406s p95=1.02077s
[end2end bsz=3600] total=1.01775s (per-sample=0.0002827079s) | encode=0.98271s search=0.03504s p95=1.01776s
[end2end bsz=3700] total=1.03629s (per-sample=0.0002800783s) | encode=1.00038s search=0.03591s p95=1.03677s
[end2end bsz=3800] total=1.06414s (per-sample=0.0002800356s) | encode=1.02723s search=0.03691s p95=1.06521s
[end2end bsz=3900] total=1.09751s (per-sample=0.0002814119s) | encode=1.05959s search=0.03791s p95=1.09827s
[end2end bsz=4000] total=1.12182s (per-sample=0.0002804538s) | encode=1.08300s search=0.03881s p95=1.12387s
[end2end bsz=4100] total=1.25642s (per-sample=0.0003064442s) | encode=1.11273s search=0.14369s p95=1.25826s
[end2end bsz=4200] total=1.28940s (per-sample=0.0003070005s) | encode=1.14039s search=0.14901s p95=1.28986s
[end2end bsz=4300] total=1.32495s (per-sample=0.0003081287s) | encode=1.17270s search=0.15226s p95=1.32542s
[end2end bsz=4400] total=1.35449s (per-sample=0.0003078380s) | encode=1.19932s search=0.15517s p95=1.35846s
[end2end bsz=4500] total=1.38312s (per-sample=0.0003073610s) | encode=1.22503s search=0.15810s p95=1.38649s
[end2end bsz=4600] total=1.40941s (per-sample=0.0003063928s) | encode=1.24643s search=0.16298s p95=1.40946s
[end2end bsz=4700] total=1.44476s (per-sample=0.0003073952s) | encode=1.27782s search=0.16694s p95=1.44663s
[end2end bsz=4800] total=1.48378s (per-sample=0.0003091206s) | encode=1.31200s search=0.17178s p95=1.49168s
[end2end bsz=4900] total=1.59578s (per-sample=0.0003256693s) | encode=1.42221s search=0.17357s p95=1.68182s
[end2end bsz=5000] total=1.53629s (per-sample=0.0003072585s) | encode=1.36062s search=0.17567s p95=1.53920s
[end2end bsz=5100] total=1.56457s (per-sample=0.0003067787s) | encode=1.38625s search=0.17833s p95=1.56473s
[end2end bsz=5200] total=1.59335s (per-sample=0.0003064127s) | encode=1.40927s search=0.18407s p95=1.59514s
[end2end bsz=5300] total=1.62366s (per-sample=0.0003063516s) | encode=1.43708s search=0.18658s p95=1.62752s
[end2end bsz=5400] total=1.65599s (per-sample=0.0003066646s) | encode=1.46706s search=0.18893s p95=1.66188s
[end2end bsz=5500] total=1.68715s (per-sample=0.0003067550s) | encode=1.49329s search=0.19386s p95=1.69270s
[end2end bsz=5600] total=1.71753s (per-sample=0.0003067016s) | encode=1.51950s search=0.19803s p95=1.71904s
[end2end bsz=5700] total=1.74548s (per-sample=0.0003062241s) | encode=1.54476s search=0.20071s p95=1.75022s
[end2end bsz=5800] total=1.77353s (per-sample=0.0003057805s) | encode=1.56937s search=0.20415s p95=1.77717s
[end2end bsz=5900] total=1.80474s (per-sample=0.0003058876s) | encode=1.59631s search=0.20842s p95=1.80748s
[end2end bsz=6000] total=1.85010s (per-sample=0.0003083505s) | encode=1.63575s search=0.21435s p95=1.85140s

"""
plot_bsz_metrics_separate(text)

# 3
text = """
[embedding   bsz=100] total=0.02744s (per-sample=0.0002744273s) p95=0.02751s
[embedding   bsz=200] total=0.05427s (per-sample=0.0002713683s) p95=0.05494s
[embedding   bsz=300] total=0.08178s (per-sample=0.0002726015s) p95=0.08188s
[embedding   bsz=400] total=0.11007s (per-sample=0.0002751847s) p95=0.11039s
[embedding   bsz=500] total=0.13907s (per-sample=0.0002781421s) p95=0.13932s
[embedding   bsz=600] total=0.16472s (per-sample=0.0002745251s) p95=0.16480s
[embedding   bsz=700] total=0.19210s (per-sample=0.0002744240s) p95=0.19233s
[embedding   bsz=800] total=0.22032s (per-sample=0.0002753999s) p95=0.22060s
[embedding   bsz=900] total=0.24676s (per-sample=0.0002741819s) p95=0.24783s
[embedding   bsz=1000] total=0.27507s (per-sample=0.0002750715s) p95=0.27764s
[embedding   bsz=1100] total=0.29888s (per-sample=0.0002717083s) p95=0.29900s
[embedding   bsz=1200] total=0.32748s (per-sample=0.0002728981s) p95=0.32970s
[embedding   bsz=1300] total=0.35568s (per-sample=0.0002736015s) p95=0.35726s
[embedding   bsz=1400] total=0.38685s (per-sample=0.0002763217s) p95=0.38712s
[embedding   bsz=1500] total=0.40778s (per-sample=0.0002718529s) p95=0.40791s
[embedding   bsz=1600] total=0.44347s (per-sample=0.0002771700s) p95=0.44631s
[embedding   bsz=1700] total=0.46457s (per-sample=0.0002732777s) p95=0.46537s
[embedding   bsz=1800] total=0.48854s (per-sample=0.0002714097s) p95=0.48974s
[embedding   bsz=1900] total=0.51689s (per-sample=0.0002720463s) p95=0.51966s
[embedding   bsz=2000] total=0.54210s (per-sample=0.0002710516s) p95=0.54273s
[embedding   bsz=2100] total=0.57216s (per-sample=0.0002724578s) p95=0.57419s
[embedding   bsz=2200] total=0.59639s (per-sample=0.0002710863s) p95=0.59757s
[embedding   bsz=2300] total=0.62251s (per-sample=0.0002706568s) p95=0.62335s
[embedding   bsz=2400] total=0.65869s (per-sample=0.0002744558s) p95=0.66115s
[embedding   bsz=2500] total=0.67784s (per-sample=0.0002711343s) p95=0.68052s
[embedding   bsz=2600] total=0.70266s (per-sample=0.0002702520s) p95=0.70309s
[embedding   bsz=2700] total=0.72767s (per-sample=0.0002695074s) p95=0.72797s
[embedding   bsz=2800] total=0.75682s (per-sample=0.0002702932s) p95=0.75902s
[embedding   bsz=2900] total=0.78858s (per-sample=0.0002719234s) p95=0.78900s
[embedding   bsz=3000] total=0.82145s (per-sample=0.0002738170s) p95=0.82249s
[embedding   bsz=3100] total=0.84375s (per-sample=0.0002721790s) p95=0.84403s
[embedding   bsz=3200] total=0.87235s (per-sample=0.0002726088s) p95=0.87351s
[embedding   bsz=3300] total=0.89085s (per-sample=0.0002699540s) p95=0.89200s
[embedding   bsz=3400] total=0.91963s (per-sample=0.0002704797s) p95=0.92112s
[embedding   bsz=3500] total=0.94696s (per-sample=0.0002705586s) p95=0.94823s
[embedding   bsz=3600] total=0.97338s (per-sample=0.0002703831s) p95=0.97419s
[embedding   bsz=3700] total=1.00484s (per-sample=0.0002715792s) p95=1.00557s
[embedding   bsz=3800] total=1.03316s (per-sample=0.0002718830s) p95=1.03390s
[embedding   bsz=3900] total=1.05881s (per-sample=0.0002714889s) p95=1.05928s
[embedding   bsz=4000] total=1.08871s (per-sample=0.0002721770s) p95=1.09367s
[embedding   bsz=4100] total=1.10879s (per-sample=0.0002704357s) p95=1.10954s
[embedding   bsz=4200] total=1.13663s (per-sample=0.0002706266s) p95=1.13684s
[embedding   bsz=4300] total=1.17213s (per-sample=0.0002725895s) p95=1.17290s
[embedding   bsz=4400] total=1.18782s (per-sample=0.0002699585s) p95=1.19021s
[embedding   bsz=4500] total=1.21296s (per-sample=0.0002695466s) p95=1.21336s
[embedding   bsz=4600] total=1.24600s (per-sample=0.0002708703s) p95=1.24889s
[embedding   bsz=4700] total=1.26609s (per-sample=0.0002693800s) p95=1.26618s
[embedding   bsz=4800] total=1.31013s (per-sample=0.0002729437s) p95=1.31549s
[embedding   bsz=4900] total=1.43455s (per-sample=0.0002927659s) p95=1.52150s
[embedding   bsz=5000] total=1.35087s (per-sample=0.0002701731s) p95=1.35174s
[embedding   bsz=5100] total=1.37587s (per-sample=0.0002697790s) p95=1.37727s
[embedding   bsz=5200] total=1.41511s (per-sample=0.0002721371s) p95=1.41675s
[embedding   bsz=5300] total=1.43333s (per-sample=0.0002704389s) p95=1.43495s
[embedding   bsz=5400] total=1.46499s (per-sample=0.0002712939s) p95=1.46707s
[embedding   bsz=5500] total=1.49050s (per-sample=0.0002709998s) p95=1.49541s
[embedding   bsz=5600] total=1.52692s (per-sample=0.0002726646s) p95=1.53122s
[embedding   bsz=5700] total=1.54261s (per-sample=0.0002706332s) p95=1.54954s
[embedding   bsz=5800] total=1.58038s (per-sample=0.0002724795s) p95=1.58114s
[embedding   bsz=5900] total=1.59571s (per-sample=0.0002704592s) p95=1.59838s
[embedding   bsz=6000] total=1.62174s (per-sample=0.0002702908s) p95=1.62360s
[embedding   bsz=6100] total=1.65099s (per-sample=0.0002706549s) p95=1.65536s
[embedding   bsz=6200] total=1.68264s (per-sample=0.0002713943s) p95=1.68894s
[embedding   bsz=6300] total=1.70539s (per-sample=0.0002706969s) p95=1.71057s
[embedding   bsz=6400] total=1.74103s (per-sample=0.0002720356s) p95=1.74681s
[embedding   bsz=6500] total=1.75891s (per-sample=0.0002706009s) p95=1.76250s
[embedding   bsz=6600] total=1.78465s (per-sample=0.0002704008s) p95=1.79553s
[embedding   bsz=6700] total=1.80957s (per-sample=0.0002700857s) p95=1.81492s
[embedding   bsz=6800] total=1.92797s (per-sample=0.0002835246s) p95=1.94797s
[embedding   bsz=6900] total=1.93496s (per-sample=0.0002804296s) p95=1.93592s
[embedding   bsz=7000] total=2.09919s (per-sample=0.0002998846s) p95=2.19172s
[embedding   bsz=7100] total=2.00547s (per-sample=0.0002824606s) p95=2.01155s
[embedding   bsz=7200] total=2.03585s (per-sample=0.0002827565s) p95=2.04155s
[embedding   bsz=7300] total=2.03792s (per-sample=0.0002791672s) p95=2.03927s
[embedding   bsz=7400] total=2.09543s (per-sample=0.0002831667s) p95=2.09963s
[embedding   bsz=7500] total=2.15434s (per-sample=0.0002872458s) p95=2.15796s
[embedding   bsz=7600] total=2.14557s (per-sample=0.0002823124s) p95=2.14578s
[embedding   bsz=7700] total=2.17347s (per-sample=0.0002822683s) p95=2.17419s
[embedding   bsz=7800] total=2.23840s (per-sample=0.0002869749s) p95=2.24094s
[embedding   bsz=7900] total=2.32704s (per-sample=0.0002945626s) p95=2.42075s
[embedding   bsz=8000] total=2.31926s (per-sample=0.0002899079s) p95=2.32653s
[embedding   bsz=8100] total=2.36611s (per-sample=0.0002921125s) p95=2.36678s
[embedding   bsz=8200] total=2.44583s (per-sample=0.0002982722s) p95=2.48339s
[embedding   bsz=8300] total=2.41488s (per-sample=0.0002909494s) p95=2.44935s
[embedding   bsz=8400] total=2.44124s (per-sample=0.0002906236s) p95=2.44246s
[embedding   bsz=8500] total=2.48899s (per-sample=0.0002928220s) p95=2.49554s
[embedding   bsz=8600] total=2.47478s (per-sample=0.0002877656s) p95=2.47687s
[embedding   bsz=8700] total=2.49649s (per-sample=0.0002869534s) p95=2.49951s
[embedding   bsz=8800] total=2.53440s (per-sample=0.0002879994s) p95=2.53669s
[embedding   bsz=8900] total=2.58838s (per-sample=0.0002908296s) p95=2.59845s
[embedding   bsz=9000] total=2.57755s (per-sample=0.0002863949s) p95=2.57840s
[embedding   bsz=9100] total=2.61433s (per-sample=0.0002872888s) p95=2.61569s
[embedding   bsz=9200] total=2.67897s (per-sample=0.0002911926s) p95=2.68303s
[embedding   bsz=9300] total=2.72263s (per-sample=0.0002927555s) p95=2.73027s
[embedding   bsz=9400] total=2.69836s (per-sample=0.0002870599s) p95=2.70986s
[embedding   bsz=9500] total=2.75303s (per-sample=0.0002897923s) p95=2.76469s
[embedding   bsz=9600] total=2.82620s (per-sample=0.0002943955s) p95=2.82833s
"""

plot_bsz_metrics_separate(text,mode="embedding")
# 4
text = """
[Init] search_type=gpu 初始化完成。
[search   bsz=100] total=0.00114s (per-sample=0.0000113679s) p95=0.00114s
[search   bsz=200] total=0.00219s (per-sample=0.0000109702s) p95=0.00220s
[search   bsz=300] total=0.00324s (per-sample=0.0000107904s) p95=0.00324s
[search   bsz=400] total=0.00425s (per-sample=0.0000106270s) p95=0.00425s
[search   bsz=500] total=0.00528s (per-sample=0.0000105598s) p95=0.00530s
[search   bsz=600] total=0.00629s (per-sample=0.0000104766s) p95=0.00630s
[search   bsz=700] total=0.00736s (per-sample=0.0000105169s) p95=0.00737s
[search   bsz=800] total=0.00836s (per-sample=0.0000104511s) p95=0.00837s
[search   bsz=900] total=0.00945s (per-sample=0.0000104961s) p95=0.00946s
[search   bsz=1000] total=0.01051s (per-sample=0.0000105106s) p95=0.01051s
[search   bsz=1100] total=0.01158s (per-sample=0.0000105228s) p95=0.01160s
[search   bsz=1200] total=0.01263s (per-sample=0.0000105257s) p95=0.01264s
[search   bsz=1300] total=0.01361s (per-sample=0.0000104657s) p95=0.01361s
[search   bsz=1400] total=0.01464s (per-sample=0.0000104538s) p95=0.01464s
[search   bsz=1500] total=0.01566s (per-sample=0.0000104378s) p95=0.01566s
[search   bsz=1600] total=0.01676s (per-sample=0.0000104739s) p95=0.01678s
[search   bsz=1700] total=0.01769s (per-sample=0.0000104070s) p95=0.01770s
[search   bsz=1800] total=0.01872s (per-sample=0.0000103982s) p95=0.01875s
[search   bsz=1900] total=0.01980s (per-sample=0.0000104216s) p95=0.01982s
[search   bsz=2000] total=0.02068s (per-sample=0.0000103410s) p95=0.02069s
[search   bsz=2100] total=0.02171s (per-sample=0.0000103375s) p95=0.02172s
[search   bsz=2200] total=0.02293s (per-sample=0.0000104214s) p95=0.02300s
[search   bsz=2300] total=0.02379s (per-sample=0.0000103436s) p95=0.02383s
[search   bsz=2400] total=0.02488s (per-sample=0.0000103653s) p95=0.02490s
[search   bsz=2500] total=0.02585s (per-sample=0.0000103383s) p95=0.02587s
[search   bsz=2600] total=0.02688s (per-sample=0.0000103373s) p95=0.02689s
[search   bsz=2700] total=0.02789s (per-sample=0.0000103295s) p95=0.02797s
[search   bsz=2800] total=0.02887s (per-sample=0.0000103125s) p95=0.02892s
[search   bsz=2900] total=0.02984s (per-sample=0.0000102891s) p95=0.02988s
[search   bsz=3000] total=0.03093s (per-sample=0.0000103113s) p95=0.03097s
[search   bsz=3100] total=0.03187s (per-sample=0.0000102796s) p95=0.03201s
[search   bsz=3200] total=0.03293s (per-sample=0.0000102898s) p95=0.03299s
[search   bsz=3300] total=0.03387s (per-sample=0.0000102648s) p95=0.03388s
[search   bsz=3400] total=0.03497s (per-sample=0.0000102849s) p95=0.03500s
[search   bsz=3500] total=0.03601s (per-sample=0.0000102891s) p95=0.03602s
[search   bsz=3600] total=0.03840s (per-sample=0.0000106668s) p95=0.03850s
[search   bsz=3700] total=0.03926s (per-sample=0.0000106113s) p95=0.03927s
[search   bsz=3800] total=0.04039s (per-sample=0.0000106286s) p95=0.04041s
[search   bsz=3900] total=0.04122s (per-sample=0.0000105694s) p95=0.04124s
[search   bsz=4000] total=0.04227s (per-sample=0.0000105678s) p95=0.04228s
[search   bsz=4100] total=0.14778s (per-sample=0.0000360446s) p95=0.14795s
[search   bsz=4200] total=0.15171s (per-sample=0.0000361226s) p95=0.15182s
[search   bsz=4300] total=0.15561s (per-sample=0.0000361894s) p95=0.15611s
[search   bsz=4400] total=0.15966s (per-sample=0.0000362867s) p95=0.15992s
[search   bsz=4500] total=0.16321s (per-sample=0.0000362693s) p95=0.16439s
[search   bsz=4600] total=0.16805s (per-sample=0.0000365331s) p95=0.16888s
[search   bsz=4700] total=0.17073s (per-sample=0.0000363254s) p95=0.17122s
[search   bsz=4800] total=0.17281s (per-sample=0.0000360020s) p95=0.17298s
[search   bsz=4900] total=0.17799s (per-sample=0.0000363239s) p95=0.17837s
[search   bsz=5000] total=0.18117s (per-sample=0.0000362340s) p95=0.18140s
[search   bsz=5100] total=0.18393s (per-sample=0.0000360643s) p95=0.18452s
[search   bsz=5200] total=0.18920s (per-sample=0.0000363852s) p95=0.18929s
[search   bsz=5300] total=0.19176s (per-sample=0.0000361816s) p95=0.19182s
[search   bsz=5400] total=0.19411s (per-sample=0.0000359459s) p95=0.19413s
[search   bsz=5500] total=0.20009s (per-sample=0.0000363804s) p95=0.20023s
[search   bsz=5600] total=0.20401s (per-sample=0.0000364304s) p95=0.20405s
[search   bsz=5700] total=0.20530s (per-sample=0.0000360175s) p95=0.20536s
[search   bsz=5800] total=0.21186s (per-sample=0.0000365280s) p95=0.21212s
[search   bsz=5900] total=0.21442s (per-sample=0.0000363425s) p95=0.21593s
[search   bsz=6000] total=0.21734s (per-sample=0.0000362241s) p95=0.21744s
[search   bsz=6100] total=0.22140s (per-sample=0.0000362957s) p95=0.22179s
[search   bsz=6200] total=0.22543s (per-sample=0.0000363604s) p95=0.22595s
[search   bsz=6300] total=0.22943s (per-sample=0.0000364168s) p95=0.23109s
[search   bsz=6400] total=0.23069s (per-sample=0.0000360455s) p95=0.23107s
[search   bsz=6500] total=0.23706s (per-sample=0.0000364714s) p95=0.23850s
[search   bsz=6600] total=0.23912s (per-sample=0.0000362306s) p95=0.23961s
[search   bsz=6700] total=0.24059s (per-sample=0.0000359093s) p95=0.24064s
[search   bsz=6800] total=0.24707s (per-sample=0.0000363339s) p95=0.24793s
[search   bsz=6900] total=0.25060s (per-sample=0.0000363182s) p95=0.25156s
[search   bsz=7000] total=0.25207s (per-sample=0.0000360096s) p95=0.25289s
[search   bsz=7100] total=0.25614s (per-sample=0.0000360764s) p95=0.25669s
[search   bsz=7200] total=0.26031s (per-sample=0.0000361537s) p95=0.26089s
[search   bsz=7300] total=0.26318s (per-sample=0.0000360522s) p95=0.26392s
[search   bsz=7400] total=0.26716s (per-sample=0.0000361031s) p95=0.26771s
[search   bsz=7500] total=0.27163s (per-sample=0.0000362179s) p95=0.27203s
[search   bsz=7600] total=0.27485s (per-sample=0.0000361644s) p95=0.27532s
[search   bsz=7700] total=0.27737s (per-sample=0.0000360226s) p95=0.27758s
[search   bsz=7800] total=0.28246s (per-sample=0.0000362126s) p95=0.28275s
[search   bsz=7900] total=0.28623s (per-sample=0.0000362313s) p95=0.28688s
[search   bsz=8000] total=0.28829s (per-sample=0.0000360363s) p95=0.28907s
[search   bsz=8100] total=0.29456s (per-sample=0.0000363659s) p95=0.29467s
[search   bsz=8200] total=0.29745s (per-sample=0.0000362745s) p95=0.29825s
[search   bsz=8300] total=0.29833s (per-sample=0.0000359432s) p95=0.29861s
[search   bsz=8400] total=0.30564s (per-sample=0.0000363856s) p95=0.30640s
[search   bsz=8500] total=0.30778s (per-sample=0.0000362094s) p95=0.30832s
[search   bsz=8600] total=0.30910s (per-sample=0.0000359423s) p95=0.30997s
[search   bsz=8700] total=0.31366s (per-sample=0.0000360526s) p95=0.31377s
[search   bsz=8800] total=0.31904s (per-sample=0.0000362549s) p95=0.31960s
[search   bsz=8900] total=0.32049s (per-sample=0.0000360100s) p95=0.32086s
[search   bsz=9000] total=0.32422s (per-sample=0.0000360240s) p95=0.32429s
[search   bsz=9100] total=0.33074s (per-sample=0.0000363447s) p95=0.33093s
[search   bsz=9200] total=0.33437s (per-sample=0.0000363450s) p95=0.33568s
[search   bsz=9300] total=0.33414s (per-sample=0.0000359288s) p95=0.33424s
[search   bsz=9400] total=0.34159s (per-sample=0.0000363394s) p95=0.34180s
[search   bsz=9500] total=0.34322s (per-sample=0.0000361282s) p95=0.34322s
[search   bsz=9600] total=0.34568s (per-sample=0.0000360081s) p95=0.34608s
[search   bsz=9700] total=0.35123s (per-sample=0.0000362089s) p95=0.35125s
[search   bsz=9800] total=0.35312s (per-sample=0.0000360323s) p95=0.35340s
[search   bsz=9900] total=0.35645s (per-sample=0.0000360051s) p95=0.35722s

"""

plot_bsz_metrics_separate(text,mode="retrieval")

# 5 
text='''
[Init] search_type=gpu 初始化完成。
[end2end bsz=100] total=1.10702s (per-sample=0.0110701916s) | encode=1.10566s search=0.00136s p95=1.11113s
[end2end bsz=200] total=2.12384s (per-sample=0.0106192023s) | encode=2.12140s search=0.00244s p95=2.12495s
[end2end bsz=300] total=3.24332s (per-sample=0.0108110598s) | encode=3.23961s search=0.00371s p95=3.25069s
[end2end bsz=400] total=4.16603s (per-sample=0.0104150753s) | encode=4.16174s search=0.00429s p95=4.24562s
[end2end bsz=500] total=5.16348s (per-sample=0.0103269665s) | encode=5.15799s search=0.00550s p95=5.27796s
[end2end bsz=600] total=6.21038s (per-sample=0.0103506328s) | encode=6.20370s search=0.00668s p95=6.27409s
[end2end bsz=700] total=7.28683s (per-sample=0.0104097606s) | encode=7.27921s search=0.00762s p95=7.33575s
[end2end bsz=800] total=8.40855s (per-sample=0.0105106915s) | encode=8.39955s search=0.00900s p95=8.50499s
[end2end bsz=900] total=9.26094s (per-sample=0.0102899373s) | encode=9.25108s search=0.00986s p95=9.26137s
[end2end bsz=1000] total=10.30084s (per-sample=0.0103008444s) | encode=10.29039s search=0.01045s p95=10.41683s
[end2end bsz=1100] total=11.30992s (per-sample=0.0102817474s) | encode=11.29824s search=0.01168s p95=11.35091s
[end2end bsz=1200] total=12.96675s (per-sample=0.0108056272s) | encode=12.95360s search=0.01315s p95=12.99622s
[end2end bsz=1300] total=14.45210s (per-sample=0.0111170028s) | encode=14.43749s search=0.01461s p95=14.50543s
[end2end bsz=1400] total=14.68777s (per-sample=0.0104912672s) | encode=14.67360s search=0.01418s p95=14.83830s
[end2end bsz=1500] total=16.30128s (per-sample=0.0108675168s) | encode=16.28528s search=0.01600s p95=16.45725s
[end2end bsz=1600] total=16.96178s (per-sample=0.0106011097s) | encode=16.94416s search=0.01761s p95=17.02207s
[end2end bsz=1700] total=18.66239s (per-sample=0.0109778774s) | encode=18.64502s search=0.01737s p95=18.80987s
[end2end bsz=1800] total=19.25991s (per-sample=0.0106999478s) | encode=19.24115s search=0.01876s p95=19.46010s
[end2end bsz=1900] total=20.54947s (per-sample=0.0108155086s) | encode=20.52852s search=0.02094s p95=21.06522s
[end2end bsz=2000] total=21.81589s (per-sample=0.0109079471s) | encode=21.79583s search=0.02006s p95=22.20325s
'''

plot_bsz_metrics_separate(text,mode="image end2end",per_sample=False)

# 6
text='''
[embedding   bsz=100] total=1.02040s (per-sample=0.0102040382s) p95=1.03171s
[embedding   bsz=200] total=2.04705s (per-sample=0.0102352371s) p95=2.04848s
[embedding   bsz=300] total=3.09366s (per-sample=0.0103122116s) p95=3.11404s
[embedding   bsz=400] total=4.28771s (per-sample=0.0107192643s) p95=4.40531s
[embedding   bsz=500] total=5.44324s (per-sample=0.0108864753s) p95=5.52141s
[embedding   bsz=600] total=6.50594s (per-sample=0.0108432406s) p95=6.51526s
[embedding   bsz=700] total=7.44154s (per-sample=0.0106307652s) p95=7.51663s
[embedding   bsz=800] total=8.78152s (per-sample=0.0109769026s) p95=9.04420s
[embedding   bsz=900] total=9.76257s (per-sample=0.0108473023s) p95=9.78907s
[embedding   bsz=1000] total=11.16245s (per-sample=0.0111624524s) p95=11.28250s
[embedding   bsz=1100] total=11.90027s (per-sample=0.0108184286s) p95=12.31005s
[embedding   bsz=1200] total=13.01060s (per-sample=0.0108421682s) p95=13.16557s
[embedding   bsz=1300] total=13.55162s (per-sample=0.0104243268s) p95=13.73101s
[embedding   bsz=1400] total=15.61029s (per-sample=0.0111502082s) p95=15.66712s
[embedding   bsz=1500] total=15.96267s (per-sample=0.0106417801s) p95=15.97125s
[embedding   bsz=1600] total=17.25935s (per-sample=0.0107870965s) p95=17.65915s
[embedding   bsz=1700] total=18.24838s (per-sample=0.0107343438s) p95=18.46533s
[embedding   bsz=1800] total=19.73451s (per-sample=0.0109636144s) p95=19.82793s
[embedding   bsz=1900] total=20.84495s (per-sample=0.0109710270s) p95=20.99149s
[embedding   bsz=2000] total=21.78207s (per-sample=0.0108910331s) p95=21.97656s

'''
plot_bsz_metrics_separate(text,mode="image embdding",per_sample=False)


      
